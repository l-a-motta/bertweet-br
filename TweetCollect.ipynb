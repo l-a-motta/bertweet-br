{
 "cells": [
  {
   "cell_type": "code",
   "execution_count": 1,
   "metadata": {},
   "outputs": [],
   "source": [
    "# For sending GET requests from the API\n",
    "import requests\n",
    "# For saving access tokens and for file management when creating and adding to the dataset\n",
    "import os\n",
    "# For dealing with json responses we receive from the API\n",
    "import json\n",
    "# For displaying the data after\n",
    "import pandas as pd\n",
    "# For saving the response data in CSV format\n",
    "import csv\n",
    "# For parsing the dates received from twitter in readable formats\n",
    "import datetime\n",
    "import dateutil.parser\n",
    "import unicodedata\n",
    "#To add wait time between requests\n",
    "import time"
   ]
  },
  {
   "cell_type": "code",
   "execution_count": 7,
   "metadata": {},
   "outputs": [],
   "source": [
    "os.environ['TOKEN'] = 'token'"
   ]
  },
  {
   "cell_type": "code",
   "execution_count": 13,
   "metadata": {},
   "outputs": [],
   "source": [
    "def auth():\n",
    "    return os.getenv('TOKEN')\n",
    "\n",
    "def create_headers(bearer_token):\n",
    "    headers = {\"Authorization\": \"Bearer {}\".format(bearer_token)}\n",
    "    return headers\n",
    "\n",
    "def create_url(keyword, start_date, end_date, max_results = 10):\n",
    "    \n",
    "    search_url = \"https://api.twitter.com/2/tweets/search/recent\" #Change to the endpoint you want to collect data from\n",
    "\n",
    "    #change params based on the endpoint you are using\n",
    "    query_params = {'query': keyword,\n",
    "                    'start_time': start_date,\n",
    "                    'end_time': end_date,\n",
    "                    'max_results': max_results,\n",
    "                    'next_token': {}}\n",
    "    return (search_url, query_params)\n",
    "\n",
    "def connect_to_endpoint(url, headers, params, next_token = None):\n",
    "    params['next_token'] = next_token   #params object received from create_url function\n",
    "    response = requests.request(\"GET\", url, headers = headers, params = params)\n",
    "    print(\"Endpoint Response Code: \" + str(response.status_code))\n",
    "    if response.status_code != 200:\n",
    "        raise Exception(response.status_code, response.text)\n",
    "    return response.json()"
   ]
  },
  {
   "cell_type": "code",
   "execution_count": 19,
   "metadata": {},
   "outputs": [],
   "source": [
    "#Inputs for the request\n",
    "bearer_token = auth()\n",
    "headers = create_headers(bearer_token)\n",
    "keyword = \"covid lang:pt\"\n",
    "start_time = \"2022-01-29T00:00:00.000Z\"\n",
    "end_time = \"2022-02-04T00:00:00.000Z\"\n",
    "max_results = 10"
   ]
  },
  {
   "cell_type": "code",
   "execution_count": 20,
   "metadata": {},
   "outputs": [
    {
     "name": "stdout",
     "output_type": "stream",
     "text": [
      "Endpoint Response Code: 200\n",
      "{\n",
      "    \"data\": [\n",
      "        {\n",
      "            \"id\": \"1489388228323037187\",\n",
      "            \"text\": \"@Mongoloudkkk A minha eh segunda e n\\u00e3o posso ir,covid\\ud83d\\ude2a\"\n",
      "        },\n",
      "        {\n",
      "            \"id\": \"1489388228209782786\",\n",
      "            \"text\": \"RT @tuitasutton: ta na hora da diretoria dar uma chamada na key lipa, roteadora de covid do caralho. sai TODO DIA de casa e n\\u00e3o usa sequer\\u2026\"\n",
      "        },\n",
      "        {\n",
      "            \"id\": \"1489388227278561282\",\n",
      "            \"text\": \"RT @JGomes_PT: Um incentivo fiscal a quem ainda n\\u00e3o apanhou COVID-19, \\u00e9 que era. #virusvaucher\"\n",
      "        },\n",
      "        {\n",
      "            \"id\": \"1489388227169505281\",\n",
      "            \"text\": \"RT @reporterenato: URGENTE: Brasil registra 298 mil novos casos de Covid-19 e 1.041 \\u00f3bitos pela doen\\u00e7a.\"\n",
      "        },\n",
      "        {\n",
      "            \"id\": \"1489388222480359426\",\n",
      "            \"text\": \"RT @rafaelbboa: Quantas vidas poderiam ser salvas????\\n\\n\\u201cEstudo israelense mostra forte evid\\u00eancia da capacidade da vitamina D no combate ao\\u2026\"\n",
      "        },\n",
      "        {\n",
      "            \"id\": \"1489388221016465411\",\n",
      "            \"text\": \"RT @AdrillesRJorge: A falta de testes de COVID no bbb exp\\u00f5e a hipocrisia da Globo.Est\\u00e3o esperando passar o tempo para o cont\\u00e1gio do COVID p\\u2026\"\n",
      "        },\n",
      "        {\n",
      "            \"id\": \"1489388219061964803\",\n",
      "            \"text\": \"RT @JornalBSM: Roberta Lacerda foi expulsa da rede social depois de compartilhar os resultados de um estudo japon\\u00eas sobre a efetividade da\\u2026\"\n",
      "        },\n",
      "        {\n",
      "            \"id\": \"1489388217996566530\",\n",
      "            \"text\": \"RT @JornalBSM: Roberta Lacerda foi expulsa da rede social depois de compartilhar os resultados de um estudo japon\\u00eas sobre a efetividade da\\u2026\"\n",
      "        },\n",
      "        {\n",
      "            \"id\": \"1489388215836586003\",\n",
      "            \"text\": \"RT @revistaoeste: Su\\u00e9cia flexibiliza medidas restritivas contra a covid-19 https://t.co/LQkdqhhI4K\"\n",
      "        },\n",
      "        {\n",
      "            \"id\": \"1489388214938972161\",\n",
      "            \"text\": \"@Camilarookinha Um conhecido meu de longas datas, de  Salvador-ba, l\\u00edder religioso, bolsominion do p\\u00e9 roxo, morreu de covid-19, era contra m\\u00e1scaras e antivax,  esposa lulista, vacinada sempre usou m\\u00e1scaras est\\u00e1 viva e nova pra casar com outro. \\ud83e\\udd23\\ud83e\\udd23\\ud83e\\udd23 https://t.co/jkAsOmpJ3w\"\n",
      "        }\n",
      "    ],\n",
      "    \"meta\": {\n",
      "        \"newest_id\": \"1489388228323037187\",\n",
      "        \"next_token\": \"b26v89c19zqg8o3fpe48wiy05zq5kh0auy58qu0nrb7gd\",\n",
      "        \"oldest_id\": \"1489388214938972161\",\n",
      "        \"result_count\": 10\n",
      "    }\n",
      "}\n"
     ]
    }
   ],
   "source": [
    "url = create_url(keyword, start_time, end_time, max_results)\n",
    "json_response = connect_to_endpoint(url[0], headers, url[1])\n",
    "\n",
    "print(json.dumps(json_response, indent=4, sort_keys=True))\n",
    "\n",
    "with open('data.json', 'w') as f:\n",
    "    json.dump(json_response, f)"
   ]
  }
 ],
 "metadata": {
  "interpreter": {
   "hash": "2647ea34e536f865ab67ff9ddee7fd78773d956cec0cab53c79b32cd10da5d83"
  },
  "kernelspec": {
   "display_name": "Python 3.9.5 64-bit",
   "language": "python",
   "name": "python3"
  },
  "language_info": {
   "codemirror_mode": {
    "name": "ipython",
    "version": 3
   },
   "file_extension": ".py",
   "mimetype": "text/x-python",
   "name": "python",
   "nbconvert_exporter": "python",
   "pygments_lexer": "ipython3",
   "version": "3.9.5"
  },
  "orig_nbformat": 4
 },
 "nbformat": 4,
 "nbformat_minor": 2
}
